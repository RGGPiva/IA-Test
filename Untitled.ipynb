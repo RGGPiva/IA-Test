{
 "cells": [
  {
   "cell_type": "code",
   "execution_count": 5,
   "metadata": {},
   "outputs": [
    {
     "name": "stdout",
     "output_type": "stream",
     "text": [
      "All Files Renamed\n",
      "New Names are\n",
      "['Foto_1.jpg', 'Foto_2.jpg', 'Foto_3.jpg', 'Foto_4.jpg']\n"
     ]
    }
   ],
   "source": [
    "import os\n",
    "\n",
    "folder = r'C://Users//RodrigoP//Aulas Alunos//Age Detector//dataset//0-2//'\n",
    "\n",
    "count = 1\n",
    "\n",
    "for file_name in os.listdir(folder): \n",
    "    source = folder + file_name \n",
    "    destination = folder + \"Foto_\" + str(count) + \".jpg\"\n",
    "    os.rename(source, destination) \n",
    "    count += 1\n",
    "\n",
    "print('All Files Renamed')\n",
    "\n",
    "print('New Names are') \n",
    "res = os.listdir(folder) \n",
    "print(res)"
   ]
  },
  {
   "cell_type": "code",
   "execution_count": null,
   "metadata": {},
   "outputs": [],
   "source": [
    "!python detect_age.py --image dataset/20-29/Foto_249.jpg --face face_detector --age age_detector"
   ]
  },
  {
   "cell_type": "code",
   "execution_count": null,
   "metadata": {},
   "outputs": [],
   "source": []
  }
 ],
 "metadata": {
  "kernelspec": {
   "display_name": "Python 3",
   "language": "python",
   "name": "python3"
  },
  "language_info": {
   "codemirror_mode": {
    "name": "ipython",
    "version": 3
   },
   "file_extension": ".py",
   "mimetype": "text/x-python",
   "name": "python",
   "nbconvert_exporter": "python",
   "pygments_lexer": "ipython3",
   "version": "3.8.5"
  }
 },
 "nbformat": 4,
 "nbformat_minor": 4
}
